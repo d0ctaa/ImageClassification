{
 "cells": [
  {
   "cell_type": "code",
   "execution_count": 1,
   "metadata": {},
   "outputs": [
    {
     "name": "stderr",
     "output_type": "stream",
     "text": [
      "2023-10-27 14:45:07.988196: I tensorflow/core/platform/cpu_feature_guard.cc:182] This TensorFlow binary is optimized to use available CPU instructions in performance-critical operations.\n",
      "To enable the following instructions: AVX2 FMA, in other operations, rebuild TensorFlow with the appropriate compiler flags.\n"
     ]
    }
   ],
   "source": [
    "import os\n",
    "import pandas as pd\n",
    "import numpy as np\n",
    "import tensorflow as tf\n",
    "import keras\n",
    "import cv2\n",
    "from sklearn.preprocessing import LabelEncoder\n",
    "import matplotlib.pyplot as plt\n",
    "\n"
   ]
  },
  {
   "attachments": {},
   "cell_type": "markdown",
   "metadata": {},
   "source": [
    "> 1. Data Preprocessing"
   ]
  },
  {
   "cell_type": "code",
   "execution_count": 2,
   "metadata": {},
   "outputs": [],
   "source": [
    "#Loading Labels\n",
    "train_label = pd.read_csv('train.csv')\n",
    "test_label  = pd.read_csv('test.csv')"
   ]
  },
  {
   "cell_type": "code",
   "execution_count": 3,
   "metadata": {},
   "outputs": [],
   "source": [
    "train_img_name = train_label['filename']\n",
    "train_img_class = train_label['class']"
   ]
  },
  {
   "cell_type": "code",
   "execution_count": 4,
   "metadata": {},
   "outputs": [],
   "source": [
    "encoder_2 = LabelEncoder()"
   ]
  },
  {
   "attachments": {},
   "cell_type": "markdown",
   "metadata": {},
   "source": [
    ">2. Training Data"
   ]
  },
  {
   "cell_type": "code",
   "execution_count": 5,
   "metadata": {},
   "outputs": [],
   "source": [
    "#Empthy List for extracting necessary data\n",
    "train_img_file = []\n",
    "train_img_label = []\n",
    "\n",
    "\n",
    "## Loop through the the training data to extract images and their conresponding class\n",
    "for i,j in enumerate(train_img_name):\n",
    "    #read each image\n",
    "    image = cv2.imread(os.path.join('train', j))\n",
    "\n",
    "    #resize each image\n",
    "    image = cv2.resize(image,(224,224))\n",
    "\n",
    "    #Normalize image pixel to facilitate convergence and improve model performance\n",
    "    image = image / 255.0\n",
    "    \n",
    "    #save the processed image to our training image list\n",
    "    train_img_file.append(image)\n",
    "    \n",
    "    #saved the matching class of each image in a separate list\n",
    "    train_img_label.append(train_img_class[i])\n",
    "\n",
    "## Prepare for model training\n",
    "\n",
    "train_x = np.array(train_img_file)\n",
    "train_y = np.array(train_img_class)\n",
    "y_train = encoder_2.fit_transform(train_y)"
   ]
  },
  {
   "attachments": {},
   "cell_type": "markdown",
   "metadata": {},
   "source": [
    ">3. Test Data"
   ]
  },
  {
   "cell_type": "code",
   "execution_count": 6,
   "metadata": {},
   "outputs": [],
   "source": [
    "test_img_name = test_label['filename']\n",
    "test_img_class = test_label['class']\n",
    "\n",
    "#Empthy List for extracting necessary data\n",
    "test_img_file = []\n",
    "test_img_label = []\n",
    "\n",
    "\n",
    "## Loop through the the training data to extract images and their conresponding class\n",
    "for i,j in enumerate(test_img_name):\n",
    "    #read each image\n",
    "    imag = cv2.imread(os.path.join('test', j))\n",
    "\n",
    "    #resize each image\n",
    "    imag = cv2.resize(imag,(224,224))\n",
    "\n",
    "    #Normalize image pixel to facilitate convergence and improve model performance\n",
    "    imag = imag / 255.0\n",
    "    \n",
    "    #save the processed image to our training image list\n",
    "    test_img_file.append(imag)\n",
    "    \n",
    "    #saved the matching class of each image in a separate list\n",
    "    test_img_label.append(test_img_class[i])\n",
    "\n",
    "\n",
    "## Prepare for data for model training\n",
    "\n",
    "test_x = np.array(test_img_file)\n",
    "test_y = np.array(test_img_class)\n",
    "y_test = encoder_2.fit_transform(test_y)\n",
    "\n"
   ]
  },
  {
   "attachments": {},
   "cell_type": "markdown",
   "metadata": {},
   "source": [
    ">4. Model Design"
   ]
  },
  {
   "cell_type": "code",
   "execution_count": 7,
   "metadata": {},
   "outputs": [],
   "source": [
    "## Model Design\n",
    "\n",
    "model = keras.Sequential([\n",
    "    #Convolutional Blocks\n",
    "    keras.layers.Conv2D(32, (3,3), activation='relu', input_shape=(224,224,3)),\n",
    "    keras.layers.MaxPool2D((2,2)),\n",
    "    keras.layers.Conv2D(64, (3,3), activation='relu'),\n",
    "    keras.layers.MaxPool2D((2,2)),\n",
    "    keras.layers.Conv2D(64, (3,3), activation='relu'),\n",
    "\n",
    "    #Prepare the data for connection to fully connected layers\n",
    "    keras.layers.Flatten(),\n",
    "\n",
    "    #Fully Connected Layer\n",
    "    keras.layers.Dense(64, activation='relu'),\n",
    "\n",
    "    #output layer\n",
    "    keras.layers.Dense(3, activation='softmax')\n",
    "])"
   ]
  },
  {
   "cell_type": "code",
   "execution_count": 8,
   "metadata": {},
   "outputs": [],
   "source": [
    "## Model Compilation\n",
    "\n",
    "model.compile(\n",
    "    optimizer='adam',\n",
    "    loss='sparse_categorical_crossentropy',\n",
    "    metrics=['accuracy']\n",
    ")"
   ]
  },
  {
   "cell_type": "code",
   "execution_count": 9,
   "metadata": {},
   "outputs": [
    {
     "name": "stdout",
     "output_type": "stream",
     "text": [
      "Epoch 1/10\n",
      "41/41 [==============================] - 43s 1s/step - loss: 1.1706 - accuracy: 0.5027 - val_loss: 0.9973 - val_accuracy: 0.5044\n",
      "Epoch 2/10\n",
      "41/41 [==============================] - 42s 1s/step - loss: 0.5890 - accuracy: 0.7532 - val_loss: 1.1776 - val_accuracy: 0.4336\n",
      "Epoch 3/10\n",
      "41/41 [==============================] - 42s 1s/step - loss: 0.4046 - accuracy: 0.8296 - val_loss: 1.0520 - val_accuracy: 0.6283\n",
      "Epoch 4/10\n",
      "41/41 [==============================] - 41s 1s/step - loss: 0.3562 - accuracy: 0.8694 - val_loss: 1.6890 - val_accuracy: 0.4159\n",
      "Epoch 5/10\n",
      "41/41 [==============================] - 41s 997ms/step - loss: 0.2986 - accuracy: 0.8854 - val_loss: 1.4327 - val_accuracy: 0.5221\n",
      "Epoch 6/10\n",
      "41/41 [==============================] - 41s 996ms/step - loss: 0.2940 - accuracy: 0.8801 - val_loss: 1.0121 - val_accuracy: 0.5133\n",
      "Epoch 7/10\n",
      "41/41 [==============================] - 41s 996ms/step - loss: 0.2861 - accuracy: 0.8770 - val_loss: 1.2587 - val_accuracy: 0.4602\n",
      "Epoch 8/10\n",
      "41/41 [==============================] - 43s 1s/step - loss: 0.2501 - accuracy: 0.8869 - val_loss: 1.3919 - val_accuracy: 0.4425\n",
      "Epoch 9/10\n",
      "41/41 [==============================] - 42s 1s/step - loss: 0.2502 - accuracy: 0.8885 - val_loss: 1.1323 - val_accuracy: 0.5310\n",
      "Epoch 10/10\n",
      "41/41 [==============================] - 44s 1s/step - loss: 0.2353 - accuracy: 0.8862 - val_loss: 1.1149 - val_accuracy: 0.4779\n"
     ]
    }
   ],
   "source": [
    "## Model Training\n",
    "\n",
    "Results = model.fit(train_x, y_train, epochs=10, validation_data=(test_x, y_test))"
   ]
  },
  {
   "attachments": {},
   "cell_type": "markdown",
   "metadata": {},
   "source": []
  },
  {
   "attachments": {},
   "cell_type": "markdown",
   "metadata": {},
   "source": [
    ">5. Prediction"
   ]
  },
  {
   "cell_type": "code",
   "execution_count": 10,
   "metadata": {},
   "outputs": [
    {
     "name": "stdout",
     "output_type": "stream",
     "text": [
      "4/4 [==============================] - 1s 328ms/step\n"
     ]
    }
   ],
   "source": [
    "## Predict on the test data\n",
    "Predictions= model.predict(test_x)"
   ]
  },
  {
   "cell_type": "code",
   "execution_count": 11,
   "metadata": {},
   "outputs": [],
   "source": [
    "## Save the classes predicted\n",
    "pred_class = Predictions.argmax(-1)"
   ]
  },
  {
   "cell_type": "code",
   "execution_count": 12,
   "metadata": {},
   "outputs": [
    {
     "data": {
      "text/html": [
       "<div>\n",
       "<style scoped>\n",
       "    .dataframe tbody tr th:only-of-type {\n",
       "        vertical-align: middle;\n",
       "    }\n",
       "\n",
       "    .dataframe tbody tr th {\n",
       "        vertical-align: top;\n",
       "    }\n",
       "\n",
       "    .dataframe thead th {\n",
       "        text-align: right;\n",
       "    }\n",
       "</style>\n",
       "<table border=\"1\" class=\"dataframe\">\n",
       "  <thead>\n",
       "    <tr style=\"text-align: right;\">\n",
       "      <th></th>\n",
       "      <th>0</th>\n",
       "      <th>true Y</th>\n",
       "    </tr>\n",
       "  </thead>\n",
       "  <tbody>\n",
       "    <tr>\n",
       "      <th>0</th>\n",
       "      <td>2</td>\n",
       "      <td>0</td>\n",
       "    </tr>\n",
       "    <tr>\n",
       "      <th>1</th>\n",
       "      <td>0</td>\n",
       "      <td>0</td>\n",
       "    </tr>\n",
       "    <tr>\n",
       "      <th>2</th>\n",
       "      <td>0</td>\n",
       "      <td>0</td>\n",
       "    </tr>\n",
       "    <tr>\n",
       "      <th>3</th>\n",
       "      <td>2</td>\n",
       "      <td>0</td>\n",
       "    </tr>\n",
       "    <tr>\n",
       "      <th>4</th>\n",
       "      <td>1</td>\n",
       "      <td>0</td>\n",
       "    </tr>\n",
       "    <tr>\n",
       "      <th>...</th>\n",
       "      <td>...</td>\n",
       "      <td>...</td>\n",
       "    </tr>\n",
       "    <tr>\n",
       "      <th>108</th>\n",
       "      <td>2</td>\n",
       "      <td>2</td>\n",
       "    </tr>\n",
       "    <tr>\n",
       "      <th>109</th>\n",
       "      <td>2</td>\n",
       "      <td>2</td>\n",
       "    </tr>\n",
       "    <tr>\n",
       "      <th>110</th>\n",
       "      <td>2</td>\n",
       "      <td>2</td>\n",
       "    </tr>\n",
       "    <tr>\n",
       "      <th>111</th>\n",
       "      <td>2</td>\n",
       "      <td>2</td>\n",
       "    </tr>\n",
       "    <tr>\n",
       "      <th>112</th>\n",
       "      <td>2</td>\n",
       "      <td>2</td>\n",
       "    </tr>\n",
       "  </tbody>\n",
       "</table>\n",
       "<p>113 rows × 2 columns</p>\n",
       "</div>"
      ],
      "text/plain": [
       "     0  true Y\n",
       "0    2       0\n",
       "1    0       0\n",
       "2    0       0\n",
       "3    2       0\n",
       "4    1       0\n",
       "..  ..     ...\n",
       "108  2       2\n",
       "109  2       2\n",
       "110  2       2\n",
       "111  2       2\n",
       "112  2       2\n",
       "\n",
       "[113 rows x 2 columns]"
      ]
     },
     "execution_count": 12,
     "metadata": {},
     "output_type": "execute_result"
    }
   ],
   "source": [
    "## Prediction result in a df\n",
    "pred_df = pd.DataFrame(pred_class)\n",
    "pred_df['true Y'] = y_test\n",
    "pred_df"
   ]
  },
  {
   "attachments": {},
   "cell_type": "markdown",
   "metadata": {},
   "source": [
    ">6. Model Performance Visualization"
   ]
  },
  {
   "cell_type": "code",
   "execution_count": 13,
   "metadata": {},
   "outputs": [],
   "source": [
    "# Extract Loss information from the model training results\n",
    "loss = Results.history['loss']\n",
    "val_loss = Results.history['val_loss']"
   ]
  },
  {
   "cell_type": "code",
   "execution_count": 15,
   "metadata": {},
   "outputs": [],
   "source": [
    "# Compile it in a dataframe for visualition \n",
    "epchs = {'epochs': range(1,11)}\n",
    "\n",
    "resultdf = pd.DataFrame(epchs)\n",
    "resultdf['loss'] = loss\n",
    "resultdf['val_loss'] = val_loss"
   ]
  },
  {
   "cell_type": "code",
   "execution_count": 16,
   "metadata": {},
   "outputs": [
    {
     "data": {
      "text/plain": [
       "<matplotlib.legend.Legend at 0x1731452a0>"
      ]
     },
     "execution_count": 16,
     "metadata": {},
     "output_type": "execute_result"
    },
    {
     "data": {
      "image/png": "[encoded data removed]",
      "text/plain": [
       "<Figure size 1200x800 with 1 Axes>"
      ]
     },
     "metadata": {},
     "output_type": "display_data"
    }
   ],
   "source": [
    "## Plot loss information to visualize model performance\n",
    "\n",
    "plt.figure(figsize=(12,8))\n",
    "plt.plot(resultdf['epochs'], resultdf['loss'], label = 'Loss')\n",
    "plt.plot(resultdf['epochs'], resultdf['val_loss'], label = 'Validation')\n",
    "\n",
    "plt.legend()"
   ]
  }
 ],
 "metadata": {
  "kernelspec": {
   "display_name": "Python 3",
   "language": "python",
   "name": "python3"
  },
  "language_info": {
   "codemirror_mode": {
    "name": "ipython",
    "version": 3
   },
   "file_extension": ".py",
   "mimetype": "text/x-python",
   "name": "python",
   "nbconvert_exporter": "python",
   "pygments_lexer": "ipython3",
   "version": "3.10.0"
  },
  "orig_nbformat": 4,
  "vscode": {
   "interpreter": {
    "hash": "7e1998ff7f8aa20ada591c520b972326324e5ea05489af9e422744c7c09f6dad"
   }
  }
 },
 "nbformat": 4,
 "nbformat_minor": 2
}
